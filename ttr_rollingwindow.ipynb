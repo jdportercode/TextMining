{
 "cells": [
  {
   "cell_type": "markdown",
   "metadata": {},
   "source": [
    "Given a directory or a file, this program will find the type token ratio for a rolling window of n number of words (default is n=500) and output the results as a .tsv file"
   ]
  },
  {
   "cell_type": "code",
   "execution_count": 1,
   "metadata": {},
   "outputs": [],
   "source": [
    "import os"
   ]
  },
  {
   "cell_type": "code",
   "execution_count": 8,
   "metadata": {},
   "outputs": [],
   "source": [
    "# Directory or text file here\n",
    "sdir = \"/Users/jd/Documents/DH/ShortStories/Corpus\"\n",
    "fn = \"/Users/jd/Documents/DH/ShortStories/Corpus/ss_Hemingway_CleanWellLightedPlace.txt\"\n",
    "# Name your output file here\n",
    "ofn = \"/Users/jd/Documents/DH/ShortStories/Corpus_rolling_ttr.tsv\""
   ]
  },
  {
   "cell_type": "code",
   "execution_count": 9,
   "metadata": {},
   "outputs": [],
   "source": [
    "# Lists the files in a directory\n",
    "def dir2filelist(directory,path=False):\n",
    "    if path == False:\n",
    "        files = os.listdir(directory)\n",
    "    else:\n",
    "        files = os.listdir(directory)\n",
    "        files = [os.path.join(directory,f) for f in files]\n",
    "    return files\n",
    "\n",
    "# Culls the files in a directory to those of a particular type (default is .txt)\n",
    "def dir2files(directory,path=False,type = \".txt\"):\n",
    "    files = dir2filelist(directory,path)\n",
    "    for i in files[:]:\n",
    "        if not i.endswith(type):\n",
    "            files.remove(i)\n",
    "    return files\n",
    "\n",
    "# Turns a .txt file in a text string\n",
    "def file2text(filename):\n",
    "    f=open(filename,encoding=\"utf-8\")\n",
    "    text=f.read()\n",
    "    f.close()\n",
    "    return text\n",
    "\n",
    "# Cleans a word in various ways\n",
    "def cleanword(w,lower=True):\n",
    "    # Usually want to make lowercase, but might not with names\n",
    "    if lower: \n",
    "        w=w.lower()\n",
    "    while w and not w[0].isalpha():\n",
    "        w=w[1:]\n",
    "    while w and not w[-1].isalpha():\n",
    "        w=w[:-1]\n",
    "    # all of this is if you want to get rid of apostrophe s's\n",
    "#     if w.endswith(\"'s\"):\n",
    "#         w=w[:-2]\n",
    "#         w=w+\"s\"\n",
    "    return w\n",
    "\n",
    "# Turns a string into a list of words\n",
    "def text2words(sometext,clean=True):\n",
    "    words = sometext.split()\n",
    "    if clean:\n",
    "        words = [cleanword(w) for w in words]\n",
    "    return words\n",
    "\n",
    "# Turns a .txt file into a list of words\n",
    "def file2words(filename,clean=True):\n",
    "    ftw_text = file2text(filename)\n",
    "    ftw_words = text2words(ftw_text,clean=clean)\n",
    "    return ftw_words\n",
    "\n",
    "# Easy way to turn a long filepath into just the filename\n",
    "def get_shortname(somepath):\n",
    "    sn = os.path.basename(os.path.normpath(somepath))\n",
    "    return sn"
   ]
  },
  {
   "cell_type": "code",
   "execution_count": 13,
   "metadata": {},
   "outputs": [],
   "source": [
    "# Gets the type token ratio (ttr) of a list of words\n",
    "def get_ttr(somewords):\n",
    "    uniques = set(somewords)\n",
    "    ttr = len(uniques) / len(somewords)\n",
    "    return ttr\n",
    "\n",
    "# Gets a list of all ttrs of a rolling window across a text\n",
    "def rolling_ttr_list(somewords,window=500):\n",
    "    ttrs = []\n",
    "    wc = len(somewords)\n",
    "    if wc < window:\n",
    "        ttrs.append(\"text shorter than window\")\n",
    "    else:\n",
    "        n=0\n",
    "        while n + window < wc:\n",
    "            subset = somewords[n:n+window]\n",
    "            ttr = get_ttr(subset)\n",
    "            ttrs.append(ttr)\n",
    "            n = n+1\n",
    "    return ttrs\n",
    "\n",
    "# Gets the average ttr from a list of ttrs\n",
    "def get_rolling_ttr(somewords,window=500):\n",
    "    ttr_list = rolling_ttr_list(somewords,window=window)\n",
    "    if len(ttr_list) < 2:\n",
    "        ttr = \"text shorter than window\"\n",
    "    else:\n",
    "        ttr = sum(ttr_list) / len(ttr_list)\n",
    "    return ttr\n",
    "\n",
    "# Simple way to write a dictionary as a spreadsheet file\n",
    "def dict2file(somedict,outputname,sep = \"\\t\"):\n",
    "    with open(outputname,'w') as output:\n",
    "        for k in somedict:\n",
    "            ol = [k,str(somedict[k])]\n",
    "            ostr = sep.join(ol) + \"\\n\"\n",
    "            output.write(ostr)\n",
    "    print(\"Wrote the file \" + outputname)"
   ]
  },
  {
   "cell_type": "code",
   "execution_count": 11,
   "metadata": {},
   "outputs": [],
   "source": [
    "# Makes a dictionary in which each text is associated with its rolling ttr\n",
    "files = dir2files(sdir,path=True)\n",
    "ttr_dict = {}\n",
    "for f in files:\n",
    "    words = file2words(f)\n",
    "    shortname = get_shortname(f)\n",
    "    ttr = get_rolling_ttr(words)\n",
    "    ttr_dict[shortname] = ttr"
   ]
  },
  {
   "cell_type": "code",
   "execution_count": 14,
   "metadata": {},
   "outputs": [
    {
     "name": "stdout",
     "output_type": "stream",
     "text": [
      "Wrote the file /Users/jd/Documents/DH/ShortStories/Corpus/rolling_ttr.tsv\n"
     ]
    }
   ],
   "source": [
    "# Writes the dictionary to a .tsv file\n",
    "dict2file(ttr_dict,ofn)"
   ]
  }
 ],
 "metadata": {
  "kernelspec": {
   "display_name": "Python 3",
   "language": "python",
   "name": "python3"
  },
  "language_info": {
   "codemirror_mode": {
    "name": "ipython",
    "version": 3
   },
   "file_extension": ".py",
   "mimetype": "text/x-python",
   "name": "python",
   "nbconvert_exporter": "python",
   "pygments_lexer": "ipython3",
   "version": "3.8.1"
  }
 },
 "nbformat": 4,
 "nbformat_minor": 4
}
