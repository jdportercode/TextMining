{
 "cells": [
  {
   "cell_type": "markdown",
   "metadata": {},
   "source": [
    "This notebook takes a directory and returns part of speech tags for every file in the directory, using Spacy. It assumes you already have Spacy."
   ]
  },
  {
   "cell_type": "code",
   "execution_count": 1,
   "metadata": {},
   "outputs": [],
   "source": [
    "import os,spacy as sp"
   ]
  },
  {
   "cell_type": "code",
   "execution_count": 2,
   "metadata": {},
   "outputs": [],
   "source": [
    "nlp = sp.load(\"en_core_web_sm\")"
   ]
  },
  {
   "cell_type": "code",
   "execution_count": 9,
   "metadata": {},
   "outputs": [],
   "source": [
    "# Choose your directory here\n",
    "sdir = \"/Users/jd/Documents/DH/Translation/2019-2020/IndividualStories\"\n",
    "# And name your output file here\n",
    "ofn = \"/Users/jd/Documents/DH/Translation/2019-2020/IndividualStories_pos_tags.tsv\""
   ]
  },
  {
   "cell_type": "code",
   "execution_count": 35,
   "metadata": {},
   "outputs": [],
   "source": [
    "# Lists the files in a directory\n",
    "def dir2filelist(directory,path=False):\n",
    "    if path == False:\n",
    "        files = os.listdir(directory)\n",
    "    else:\n",
    "        files = os.listdir(directory)\n",
    "        files = [os.path.join(directory,f) for f in files]\n",
    "    return files\n",
    "\n",
    "# Culls the files in a directory to those of a particular type (default is .txt)\n",
    "def dir2files(directory,path=False,type = \".txt\"):\n",
    "    files = dir2filelist(directory,path)\n",
    "    for i in files[:]:\n",
    "        if not i.endswith(type):\n",
    "            files.remove(i)\n",
    "    return files\n",
    "\n",
    "# Turns a .txt file in a text string\n",
    "def file2text(filename):\n",
    "    f=open(filename,encoding=\"utf-8\")\n",
    "    text=f.read()\n",
    "    f.close()\n",
    "    return text\n",
    "\n",
    "# Cleans a word in various ways\n",
    "def cleanword(w,lower=True):\n",
    "    # Usually want to make lowercase, but might not with names\n",
    "    if lower: \n",
    "        w=w.lower()\n",
    "    while w and not w[0].isalpha():\n",
    "        w=w[1:]\n",
    "    while w and not w[-1].isalpha():\n",
    "        w=w[:-1]\n",
    "    # all of this is if you want to get rid of apostrophe s's\n",
    "#     if w.endswith(\"'s\"):\n",
    "#         w=w[:-2]\n",
    "#         w=w+\"s\"\n",
    "    return w\n",
    "\n",
    "# Turns a string into a list of words\n",
    "def text2words(sometext,clean=True):\n",
    "    words = sometext.split()\n",
    "    if clean:\n",
    "        words = [cleanword(w) for w in words]\n",
    "    return words\n",
    "\n",
    "# Turns a .txt file into a list of words\n",
    "def file2words(filename,clean=True):\n",
    "    ftw_text = file2text(filename)\n",
    "    ftw_words = text2words(ftw_text,clean=clean)\n",
    "    return ftw_words\n",
    "\n",
    "# Easy way to turn a long filepath into just the filename\n",
    "def get_shortname(somepath):\n",
    "    sn = os.path.basename(os.path.normpath(somepath))\n",
    "    return sn\n",
    "\n",
    "# Simple way to write a list of lists out as a spreadsheet\n",
    "# Has a few silly hacks to help Excel understand the sheet\n",
    "def lol2sheet(somelol,outputname,sep=\"\\t\"):\n",
    "    with open(outputname,'w') as output:\n",
    "        for row in somelol:\n",
    "            row = [str(i) for i in row]\n",
    "            for n,i in enumerate(row):\n",
    "                if \"\\n\" in i:\n",
    "                    row[n] = \"[return character(s)]\"\n",
    "                if \"\\t\" in i:\n",
    "                    row[n] = \"[tab character(s)]\"\n",
    "                if \",\" in i:\n",
    "                    row[n] = \"[comma]\"\n",
    "            ostr = sep.join(row) + \"\\n\"\n",
    "            output.write(ostr)\n",
    "    print(\"Wrote the file \" + outputname)"
   ]
  },
  {
   "cell_type": "code",
   "execution_count": 22,
   "metadata": {},
   "outputs": [],
   "source": [
    "# POS tags everything, turning the results into a list of lists\n",
    "# If you have a lot of files, this might take a while\n",
    "files = dir2files(sdir,path=True)\n",
    "all_pos = []\n",
    "for f in files:\n",
    "    text = file2text(f)\n",
    "    doc = nlp(text)\n",
    "    for token in doc:\n",
    "        row = [get_shortname(f),token.text, token.lemma_, token.pos_, token.tag_, token.dep_]\n",
    "        all_pos.append(row)"
   ]
  },
  {
   "cell_type": "code",
   "execution_count": 36,
   "metadata": {},
   "outputs": [
    {
     "name": "stdout",
     "output_type": "stream",
     "text": [
      "Wrote the file /Users/jd/Documents/DH/Translation/2019-2020/IndividualStories_pos_tags.tsv\n"
     ]
    }
   ],
   "source": [
    "# Writes the list of lists as a .tsv file\n",
    "lol2sheet(all_pos,ofn)"
   ]
  }
 ],
 "metadata": {
  "kernelspec": {
   "display_name": "Python 3",
   "language": "python",
   "name": "python3"
  },
  "language_info": {
   "codemirror_mode": {
    "name": "ipython",
    "version": 3
   },
   "file_extension": ".py",
   "mimetype": "text/x-python",
   "name": "python",
   "nbconvert_exporter": "python",
   "pygments_lexer": "ipython3",
   "version": "3.8.1"
  }
 },
 "nbformat": 4,
 "nbformat_minor": 4
}
